{
  "nbformat": 4,
  "nbformat_minor": 0,
  "metadata": {
    "colab": {
      "provenance": [],
      "gpuType": "T4"
    },
    "kernelspec": {
      "name": "python3",
      "display_name": "Python 3"
    },
    "language_info": {
      "name": "python"
    },
    "accelerator": "GPU"
  },
  "cells": [
    {
      "cell_type": "code",
      "execution_count": 1,
      "metadata": {
        "id": "H0472c2JI-H2"
      },
      "outputs": [],
      "source": [
        "import pandas as pd\n",
        "import numpy as np"
      ]
    },
    {
      "cell_type": "code",
      "source": [
        "!pip install sentence_transformers"
      ],
      "metadata": {
        "colab": {
          "base_uri": "https://localhost:8080/"
        },
        "id": "THQRIzuhJe2C",
        "outputId": "2dd9b547-f55a-4d98-a5f7-969ea1917191"
      },
      "execution_count": 2,
      "outputs": [
        {
          "output_type": "stream",
          "name": "stdout",
          "text": [
            "Requirement already satisfied: sentence_transformers in /usr/local/lib/python3.10/dist-packages (3.2.1)\n",
            "Requirement already satisfied: transformers<5.0.0,>=4.41.0 in /usr/local/lib/python3.10/dist-packages (from sentence_transformers) (4.46.2)\n",
            "Requirement already satisfied: tqdm in /usr/local/lib/python3.10/dist-packages (from sentence_transformers) (4.66.6)\n",
            "Requirement already satisfied: torch>=1.11.0 in /usr/local/lib/python3.10/dist-packages (from sentence_transformers) (2.5.1+cu121)\n",
            "Requirement already satisfied: scikit-learn in /usr/local/lib/python3.10/dist-packages (from sentence_transformers) (1.5.2)\n",
            "Requirement already satisfied: scipy in /usr/local/lib/python3.10/dist-packages (from sentence_transformers) (1.13.1)\n",
            "Requirement already satisfied: huggingface-hub>=0.20.0 in /usr/local/lib/python3.10/dist-packages (from sentence_transformers) (0.26.2)\n",
            "Requirement already satisfied: Pillow in /usr/local/lib/python3.10/dist-packages (from sentence_transformers) (11.0.0)\n",
            "Requirement already satisfied: filelock in /usr/local/lib/python3.10/dist-packages (from huggingface-hub>=0.20.0->sentence_transformers) (3.16.1)\n",
            "Requirement already satisfied: fsspec>=2023.5.0 in /usr/local/lib/python3.10/dist-packages (from huggingface-hub>=0.20.0->sentence_transformers) (2024.10.0)\n",
            "Requirement already satisfied: packaging>=20.9 in /usr/local/lib/python3.10/dist-packages (from huggingface-hub>=0.20.0->sentence_transformers) (24.2)\n",
            "Requirement already satisfied: pyyaml>=5.1 in /usr/local/lib/python3.10/dist-packages (from huggingface-hub>=0.20.0->sentence_transformers) (6.0.2)\n",
            "Requirement already satisfied: requests in /usr/local/lib/python3.10/dist-packages (from huggingface-hub>=0.20.0->sentence_transformers) (2.32.3)\n",
            "Requirement already satisfied: typing-extensions>=3.7.4.3 in /usr/local/lib/python3.10/dist-packages (from huggingface-hub>=0.20.0->sentence_transformers) (4.12.2)\n",
            "Requirement already satisfied: networkx in /usr/local/lib/python3.10/dist-packages (from torch>=1.11.0->sentence_transformers) (3.4.2)\n",
            "Requirement already satisfied: jinja2 in /usr/local/lib/python3.10/dist-packages (from torch>=1.11.0->sentence_transformers) (3.1.4)\n",
            "Requirement already satisfied: sympy==1.13.1 in /usr/local/lib/python3.10/dist-packages (from torch>=1.11.0->sentence_transformers) (1.13.1)\n",
            "Requirement already satisfied: mpmath<1.4,>=1.1.0 in /usr/local/lib/python3.10/dist-packages (from sympy==1.13.1->torch>=1.11.0->sentence_transformers) (1.3.0)\n",
            "Requirement already satisfied: numpy>=1.17 in /usr/local/lib/python3.10/dist-packages (from transformers<5.0.0,>=4.41.0->sentence_transformers) (1.26.4)\n",
            "Requirement already satisfied: regex!=2019.12.17 in /usr/local/lib/python3.10/dist-packages (from transformers<5.0.0,>=4.41.0->sentence_transformers) (2024.9.11)\n",
            "Requirement already satisfied: safetensors>=0.4.1 in /usr/local/lib/python3.10/dist-packages (from transformers<5.0.0,>=4.41.0->sentence_transformers) (0.4.5)\n",
            "Requirement already satisfied: tokenizers<0.21,>=0.20 in /usr/local/lib/python3.10/dist-packages (from transformers<5.0.0,>=4.41.0->sentence_transformers) (0.20.3)\n",
            "Requirement already satisfied: joblib>=1.2.0 in /usr/local/lib/python3.10/dist-packages (from scikit-learn->sentence_transformers) (1.4.2)\n",
            "Requirement already satisfied: threadpoolctl>=3.1.0 in /usr/local/lib/python3.10/dist-packages (from scikit-learn->sentence_transformers) (3.5.0)\n",
            "Requirement already satisfied: MarkupSafe>=2.0 in /usr/local/lib/python3.10/dist-packages (from jinja2->torch>=1.11.0->sentence_transformers) (3.0.2)\n",
            "Requirement already satisfied: charset-normalizer<4,>=2 in /usr/local/lib/python3.10/dist-packages (from requests->huggingface-hub>=0.20.0->sentence_transformers) (3.4.0)\n",
            "Requirement already satisfied: idna<4,>=2.5 in /usr/local/lib/python3.10/dist-packages (from requests->huggingface-hub>=0.20.0->sentence_transformers) (3.10)\n",
            "Requirement already satisfied: urllib3<3,>=1.21.1 in /usr/local/lib/python3.10/dist-packages (from requests->huggingface-hub>=0.20.0->sentence_transformers) (2.2.3)\n",
            "Requirement already satisfied: certifi>=2017.4.17 in /usr/local/lib/python3.10/dist-packages (from requests->huggingface-hub>=0.20.0->sentence_transformers) (2024.8.30)\n"
          ]
        }
      ]
    },
    {
      "cell_type": "code",
      "source": [
        "from sentence_transformers import SentenceTransformer, util"
      ],
      "metadata": {
        "colab": {
          "base_uri": "https://localhost:8080/"
        },
        "id": "HoY7kav7Jjne",
        "outputId": "c9dd3e1b-6f69-4931-9046-96cadb2454c2"
      },
      "execution_count": 3,
      "outputs": [
        {
          "output_type": "stream",
          "name": "stderr",
          "text": [
            "/usr/local/lib/python3.10/dist-packages/sentence_transformers/cross_encoder/CrossEncoder.py:13: TqdmExperimentalWarning: Using `tqdm.autonotebook.tqdm` in notebook mode. Use `tqdm.tqdm` instead to force console mode (e.g. in jupyter console)\n",
            "  from tqdm.autonotebook import tqdm, trange\n"
          ]
        }
      ]
    },
    {
      "cell_type": "code",
      "source": [
        "question_bank = [\n",
        "    {\"question\":\"چگونه می‌توانم اضطراب روزانه‌ام را مدیریت کنم؟\",\"answer\":\"تمرین نفس عمیق و مدیتیشن.\"},\n",
        "    {\"question\":\"چه زمانی اضطراب نیاز به درمان حرفه‌ای دارد؟\",\"answer\":\"وقتی که عملکرد روزانه‌تان مختل می‌شود\"},\n",
        "    {\"question\":\"آیا ورزش می‌تواند اضطراب را کاهش دهد؟\",\"answer\":\"بله، به‌ویژه یوگا و پیاده‌روی\"},\n",
        "    {\"question\":\"چگونه از حمله‌های پانیک جلوگیری کنم؟\",\"answer\":\"تنفس عمیق و شناسایی محرک‌ها\"},\n",
        "    {\"question\":\"آیا تغذیه بر اضطراب تأثیر دارد؟\",\"answer\":\"بله، کاهش کافئین و افزایش مصرف میوه و سبزی\"},\n",
        "    {\"question\":\"آیا داروهای ضد اضطراب اعتیادآور هستند؟\",\"answer\":\"برخی بله، تحت نظر پزشک مصرف کنید\"},\n",
        "    {\"question\":\"آیا موسیقی آرامش‌بخش می‌تواند اضطراب را کاهش دهد؟\",\"answer\":\"بله، به‌خصوص موسیقی بی‌کلام\"},\n",
        "    {\"question\":\"چگونه می‌توانم با اضطراب اجتماعی کنار بیایم؟\",\"answer\":\"تمرین مهارت‌های اجتماعی و مواجهه تدریجی\"},\n",
        "    {\"question\":\"آیا تکنیک‌های CBT برای اضطراب موثر است؟\",\"answer\":\"بله، تغییر الگوهای فکری بسیار کمک‌کننده است\"},\n",
        "    {\"question\":\"چگونه شب‌ها اضطراب را کنترل کنم؟\",\"answer\":\"روتین خواب منظم و نوشتن افکار قبل از خواب\"},\n",
        "    {\"question\":\"چگونه با حس ناامیدی مقابله کنم؟\",\"answer\":\"به اهداف کوچک فکر کنید و از دوستان حمایت بگیرید\"},\n",
        "    {\"question\":\"آیا افسردگی بدون دارو قابل درمان است؟\",\"answer\":\"بله، با روان‌درمانی و سبک زندگی سالم\"},\n",
        "    {\"question\":\"چگونه می‌توانم احساس ارزشمندی را بازسازی کنم؟\",\"answer\":\"تمرکز بر دستاوردها و مهارت‌های شخصی\"},\n",
        "    {\"question\":\"چه زمانی افسردگی نیاز به مداخله اورژانسی دارد؟\",\"answer\":\"در صورت وجود افکار خودکشی\"},\n",
        "    {\"question\":\"آیا افسردگی ژنتیکی است؟\",\"answer\":\"بله، اما عوامل محیطی هم تأثیرگذارند\"},\n",
        "    {\"question\":\"آیا خواب زیاد نشانه افسردگی است؟\",\"answer\":\"ممکن است باشد؛ به یک متخصص مراجعه کنید\"},\n",
        "    {\"question\":\"چگونه با افسردگی پس از زایمان مقابله کنم؟\",\"answer\":\"حمایت خانواده و مشاوره حرفه‌ای\"},\n",
        "    {\"question\":\"آیا هنر درمانی برای افسردگی مؤثر است؟\",\"answer\":\"بله، می‌تواند احساسات را تسکین دهد\"},\n",
        "    {\"question\":\"چگونه انرژی‌ام را در طول افسردگی بازگردانم؟\",\"answer\":\"تغذیه مناسب، فعالیت بدنی و استراحت کافی\"},\n",
        "    {\"question\":\"آیا داروهای ضد افسردگی ایمن هستند؟\",\"answer\":\"بله، تحت نظر پزشک\"},\n",
        "    {\"question\":\"چگونه می‌توانم استرس شغلی را کاهش دهم؟\",\"answer\":\"مدیریت زمان و استراحت‌های منظم\"},\n",
        "    {\"question\":\"آیا تکنیک‌های ذهن‌آگاهی برای استرس مؤثر است؟\",\"answer\":\"بله، تمرکز بر لحظه حال کمک می‌کند\"},\n",
        "    {\"question\":\"چگونه استرس امتحانات را مدیریت کنم؟\",\"answer\":\"برنامه‌ریزی دقیق و استراحت مناسب\"},\n",
        "    {\"question\":\"آیا روابط پرتنش باعث استرس می‌شود؟\",\"answer\":\"بله، با گفتگو مشکلات را حل کنید\"},\n",
        "    {\"question\":\"چگونه بدنم را از اثرات استرس رها کنم؟\",\"answer\":\"ماساژ، ورزش و مدیتیشن کمک می‌کند\"},\n",
        "    {\"question\":\"آیا استرس می‌تواند باعث بیماری جسمی شود؟\",\"answer\":\"بله، مشکلات قلبی و گوارشی\"},\n",
        "    {\"question\":\"چگونه می‌توانم تمرکز خود را در زمان استرس حفظ کنم؟\",\"answer\":\"تقسیم وظایف به بخش‌های کوچک\"},\n",
        "    {\"question\":\"آیا تکنیک‌های تنفس عمیق مفید است؟\",\"answer\":\"بله، ضربان قلب را کاهش می‌دهد\"},\n",
        "    {\"question\":\"چگونه از استرس مزمن جلوگیری کنم؟\",\"answer\":\"سبک زندگی متعادل و برنامه‌های استراحت\"},\n",
        "    {\"question\":\"آیا موسیقی به کاهش استرس کمک می‌کند؟\",\"answer\":\"بله، موسیقی آرامش‌بخش مفید است\"},\n",
        "    {\"question\":\"چگونه می‌توانم مشکل بی‌خوابی را برطرف کنم؟\",\"answer\":\"ایجاد یک روتین منظم خواب و اجتناب از کافئین در شب\"},\n",
        "    {\"question\":\"آیا تکنیک‌های تنفس برای بهبود خواب مفید هستند؟\",\"answer\":\"بله، تنفس عمیق می‌تواند به آرامش کمک کند\"},\n",
        "    {\"question\":\"چگونه خواب سبک را به خواب عمیق تبدیل کنم؟\",\"answer\":\"محیط تاریک، دمای مناسب و خواب منظم\"},\n",
        "    {\"question\":\"چرا همیشه خسته از خواب بیدار می‌شوم؟\",\"answer\":\"ممکن است به کیفیت خواب یا آپنه خواب مربوط باشد\"},\n",
        "    {\"question\":\"آیا استفاده از موبایل قبل از خواب مضر است؟\",\"answer\":\"بله، نور آبی آن کیفیت خواب را کاهش می‌دهد\"},\n",
        "    {\"question\":\"چگونه با کابوس‌های مکرر مقابله کنم؟\",\"answer\":\"کاهش استرس و مراجعه به روان‌شناس\"},\n",
        "    {\"question\":\"آیا کم‌خوابی می‌تواند باعث مشکلات روانی شود؟\",\"answer\":\"بله، اضطراب و افسردگی را تشدید می‌کند\"},\n",
        "    {\"question\":\"چگونه خوابم را تنظیم کنم؟\",\"answer\":\"هر روز سر یک ساعت مشخص بخوابید و بیدار شوید\"},\n",
        "    {\"question\":\"آیا چرت روزانه مفید است؟\",\"answer\":\"بله، اما کوتاه (۱۵-۲۰ دقیقه)\"},\n",
        "    {\"question\":\"چگونه با بی‌خوابی ناشی از استرس کنار بیایم؟\",\"answer\":\"مدیتیشن و نوشتن افکار قبل از خواب\"},\n",
        "    {\"question\":\"چگونه می‌توانم وسواس فکری را کاهش دهم؟\",\"answer\":\"تمرین تغییر تمرکز و کمک گرفتن از روان‌درمانی\"},\n",
        "    {\"question\":\"آیا وسواس قابل درمان است؟\",\"answer\":\"بله، با ترکیب دارودرمانی و روان‌درمانی\"},\n",
        "    {\"question\":\"چگونه از تکرار رفتارهای وسواسی جلوگیری کنم؟\",\"answer\":\"شناسایی محرک‌ها و تغییر الگوهای رفتاری\"},\n",
        "    {\"question\":\"آیا تکنیک‌های سی بی تی برای وسواس موثر است؟\",\"answer\":\"بله، به‌ویژه تکنیک‌های مواجهه و پیشگیری از پاسخ\"},\n",
        "    {\"question\":\"چگونه از شر افکار مزاحم خلاص شوم؟\",\"answer\":\"پذیرش بدون قضاوت و تمرین ذهن‌آگاهی\"},\n",
        "    {\"question\":\"آیا وسواس می‌تواند زندگی روزمره را مختل کند؟\",\"answer\":\"بله، در صورت شدید بودن\"},\n",
        "    {\"question\":\"آیا ورزش برای کاهش وسواس مفید است؟\",\"answer\":\"بله، ورزش استرس را کاهش می‌دهد\"},\n",
        "    {\"question\":\"آیا وسواس می‌تواند ژنتیکی باشد؟\",\"answer\":\"بله، اما عوامل محیطی نیز موثرند\"},\n",
        "    {\"question\":\"چگونه از خستگی ناشی از وسواس جلوگیری کنم؟\",\"answer\":\"استراحت کافی و برنامه‌های آرام‌بخش\"},\n",
        "    {\"question\":\"آیا داروهای وسواس ایمن هستند؟\",\"answer\":\"بله، با نظارت پزشک\"},\n",
        "    {\"question\":\"چگونه می‌توانم عزت نفسم را افزایش دهم؟\",\"answer\":\"تمرکز بر نقاط قوت و دستاوردها\"},\n",
        "    {\"question\":\"چرا خودم را با دیگران مقایسه می‌کنم؟\",\"answer\":\"این عادت طبیعی است؛ تمرکز بر خودتان کنید\"},\n",
        "    {\"question\":\"آیا تمرین‌های خودگویی مثبت مفید هستند؟\",\"answer\":\"بله، کمک می‌کنند افکار منفی را کاهش دهید\"},\n",
        "    {\"question\":\"چگونه بر احساس بی‌ارزشی غلبه کنم؟\",\"answer\":\"تعیین اهداف کوچک و مشاوره حرفه‌ای\"},\n",
        "    {\"question\":\"آیا شبکه‌های اجتماعی عزت نفس را کاهش می‌دهند؟\",\"answer\":\"ممکن است؛ زمان استفاده را محدود کنید\"},\n",
        "    {\"question\":\"چگونه اعتمادبه‌نفسم را در جمع افزایش دهم؟\",\"answer\":\"تمرین مهارت‌های اجتماعی و مواجهه تدریجی\"},\n",
        "    {\"question\":\"چگونه از افکار منفی درباره خودم جلوگیری کنم؟\",\"answer\":\"جایگزینی افکار منفی با مثبت\"},\n",
        "    {\"question\":\"آیا یادگیری مهارت‌های جدید به عزت نفس کمک می‌کند؟\",\"answer\":\"بله، احساس پیشرفت ایجاد می‌کند\"},\n",
        "    {\"question\":\"چگونه بر ترس از شکست غلبه کنم؟\",\"answer\":\"شکست را به‌عنوان بخشی از یادگیری بپذیرید\"},\n",
        "    {\"question\":\"آیا کتاب‌خوانی می‌تواند به عزت نفس کمک کند؟\",\"answer\":\"بله، به‌ویژه کتاب‌های انگیزشی و روان‌شناسی\"},\n",
        "    {\"question\":\"چگونه با شریک عاطفی‌ام بهتر ارتباط برقرار کنم؟\",\"answer\":\"گوش دادن فعال و بیان واضح نیازها\"},\n",
        "    {\"question\":\"چگونه بر حسادت در رابطه غلبه کنم؟\",\"answer\":\"اعتمادسازی و تمرکز بر خود\"},\n",
        "    {\"question\":\"چرا در روابط عاطفی احساس ناامنی می‌کنم؟\",\"answer\":\"ممکن است به عزت نفس پایین یا تجربیات گذشته مربوط باشد\"},\n",
        "    {\"question\":\"چگونه می‌توانم تعارضات رابطه‌ای را حل کنم؟\",\"answer\":\"صحبت در زمان مناسب و اجتناب از سرزنش\"},\n",
        "    {\"question\":\"آیا فاصله عاطفی در رابطه طبیعی است؟\",\"answer\":\"گاهی بله، اما نیاز به تلاش مشترک دارد\"},\n",
        "    {\"question\":\"چگونه از وابستگی بیش‌ازحد جلوگیری کنم؟\",\"answer\":\"حفظ استقلال شخصی و تقویت خودشناسی\"},\n",
        "    {\"question\":\"چرا بعد از جدایی احساس گناه می‌کنم؟\",\"answer\":\"طبیعی است؛ پذیرش و زمان کمک می‌کند\"},\n",
        "    {\"question\":\"آیا مشاوره زوج‌ها مؤثر است؟\",\"answer\":\"بله، به بهبود ارتباط و حل مشکلات کمک می‌کند\"},\n",
        "    {\"question\":\"چگونه به شریکم اعتماد کنم؟\",\"answer\":\"شفافیت و گفتگوهای صادقانه\"},\n",
        "    {\"question\":\"چگونه بعد از خیانت بهبود یابم؟\",\"answer\":\"مشاوره حرفه‌ای و زمان برای بازسازی اعتماد\"},\n",
        "    {\"question\":\"آیا اختلالات شخصیتی قابل درمان هستند؟\",\"answer\":\"قابل مدیریت هستند، اما درمان کامل ممکن است چالش‌برانگیز باشد\"},\n",
        "    {\"question\":\"چگونه اختلال شخصیت مرزی را بشناسم؟\",\"answer\":\"بی‌ثباتی عاطفی و روابط ناپایدار نشانه‌های اصلی‌اند\"},\n",
        "    {\"question\":\"آیا افراد با اختلال شخصیت ضد اجتماعی می‌توانند تغییر کنند؟\",\"answer\":\"تغییر سخت است، اما ممکن با درمان\"},\n",
        "    {\"question\":\"چگونه با فردی با اختلال شخصیت خودشیفته برخورد کنم؟\",\"answer\":\"مرزهای واضح تعیین کنید و از خودتان مراقبت کنید\"},\n",
        "    {\"question\":\"آیا اختلال شخصیت پارانوئید خطرناک است؟\",\"answer\":\"اگر شدید باشد، ممکن است به روابط آسیب برساند\"},\n",
        "    {\"question\":\"چگونه با فردی با اختلال شخصیت اجتنابی رفتار کنم؟\",\"answer\":\"حمایت و تشویق به تعامل تدریجی\"},\n",
        "    {\"question\":\"آیا اختلال شخصیت دوقطبی درمان‌پذیر است؟\",\"answer\":\"با دارو و روان‌درمانی قابل مدیریت است\"},\n",
        "    {\"question\":\"چگونه تشخیص دهم که اختلال شخصیت دارم؟\",\"answer\":\"ارزیابی حرفه‌ای توسط روان‌شناس یا روان‌پزشک\"},\n",
        "    {\"question\":\"آیا همه اختلالات شخصیتی نیاز به دارو دارند؟\",\"answer\":\"خیر، بسیاری با روان‌درمانی مدیریت می‌شوند\"},\n",
        "    {\"question\":\"چگونه به فردی با اختلال شخصیت کمک کنم؟\",\"answer\":\"او را به مشاوره حرفه‌ای ترغیب کنید\"},\n",
        "    {\"question\":\"چگونه خشمم را کنترل کنم؟\",\"answer\":\"تنفس عمیق و تکنیک‌های آرامش‌بخش\"},\n",
        "    {\"question\":\"آیا خشم همیشه منفی است؟\",\"answer\":\"نه، اگر سازنده مدیریت شود\"},\n",
        "    {\"question\":\"چگونه از عصبانیت ناگهانی جلوگیری کنم؟\",\"answer\":\"شناخت محرک‌ها و آماده‌سازی ذهنی\"},\n",
        "    {\"question\":\"آیا ورزش به کنترل خشم کمک می‌کند؟\",\"answer\":\"بله، انرژی منفی را تخلیه می‌کند\"},\n",
        "    {\"question\":\"چگونه در دعوا آرامش خود را حفظ کنم؟\",\"answer\":\"مکث کرده و به تأخیر انداختن واکنش\"},\n",
        "    {\"question\":\"چگونه با خشم دیگران برخورد کنم؟\",\"answer\":\"آرام بمانید و فضای امن ایجاد کنید\"},\n",
        "    {\"question\":\"چطوری افسردگیمو کم کنم؟\",\"answer\":\"فعالیت بدنی (ورزش منظم) و ارتباط با دوستان و خانواده و خواب کافی و منظم و تغذیه سالم و مشاوره با روان‌شناس یا روان‌پزشک و تمرین مدیتیشن یا تکنیک‌های آرامش‌بخش\"},\n",
        "    {\"question\":\"آیا نوشتن احساسات به کنترل خشم کمک می‌کند؟\",\"answer\":\"بله، روش مفیدی برای تخلیه است\"},\n",
        "    {\"question\":\"چگونه از سرزنش کردن در زمان عصبانیت اجتناب کنم؟\",\"answer\":\"تمرکز بر بیان احساس خودتان به جای مقصر دانستن دیگران\"},\n",
        "    {\"question\":\"آیا خشم سرکوب‌شده خطرناک است؟\",\"answer\":\"بله، ممکن است منجر به مشکلات جسمی و روانی شود\"},\n",
        "    {\"question\":\"چگونه بر ترس از تصمیم‌گیری غلبه کنم؟\",\"answer\":\"اطلاعات جمع‌آوری کرده و اعتماد به شهودتان داشته باشید\"},\n",
        "    {\"question\":\"چرا بعد از تصمیم‌گیری احساس شک می‌کنم؟\",\"answer\":\"به انتخاب خود احترام بگذارید و از بازبینی زیاد اجتناب کنید\"},\n",
        "    {\"question\":\"چگونه تصمیمات بزرگ زندگی را بگیرم؟\",\"answer\":\"مزایا و معایب را نوشته و مشورت کنید\"}\n",
        "\n",
        "\n",
        "]\n",
        "df = pd.DataFrame(question_bank)\n"
      ],
      "metadata": {
        "id": "5gKWAPJaJrzu"
      },
      "execution_count": 14,
      "outputs": []
    },
    {
      "cell_type": "code",
      "source": [
        "model = SentenceTransformer(\"HooshvareLab/bert-fa-zwnj-base\")\n",
        "\n",
        "def get_embedding(sentences):\n",
        "  embeddings = model.encode(sentences, convert_to_tensor=True)\n",
        "  return embeddings\n",
        "\n",
        "def find_similar_question(new_question, questions, threshold=0.9):\n",
        "  embeddings = get_embedding(questions + [new_question])\n",
        "  cosine_scores = util.pytorch_cos_sim(embeddings[-1], embeddings[:-1])\n",
        "  max_score = cosine_scores.max().item()\n",
        "  if max_score >= threshold:\n",
        "    item = df.iloc[cosine_scores.argmax().item()]\n",
        "    return item[\"question\"], item[\"answer\"], max_score\n",
        "  return \"Cant Match Your Questions\", \"Call Admin\", max_score\n",
        "\n",
        "while True:\n",
        "  new_question = input(\"Enter Question : \")\n",
        "  if new_question == \"exit\":\n",
        "    break\n",
        "  question, answer, score = find_similar_question(new_question, list(df[\"question\"]), 0.8)\n",
        "  print(\"Matched Question :\", question)\n",
        "  print(\"MatchedAnswer :\", answer)\n",
        "  print(\"Match Score :\", score)\n",
        "  print(\"-----------------------------------\")"
      ],
      "metadata": {
        "colab": {
          "base_uri": "https://localhost:8080/"
        },
        "id": "j6t2FCZge3yL",
        "outputId": "d6c44146-5104-4b0c-842c-78e8ce7c26cc"
      },
      "execution_count": null,
      "outputs": [
        {
          "output_type": "stream",
          "name": "stderr",
          "text": [
            "WARNING:sentence_transformers.SentenceTransformer:No sentence-transformers model found with name HooshvareLab/bert-fa-zwnj-base. Creating a new one with mean pooling.\n",
            "Some weights of BertModel were not initialized from the model checkpoint at HooshvareLab/bert-fa-zwnj-base and are newly initialized: ['bert.pooler.dense.bias', 'bert.pooler.dense.weight']\n",
            "You should probably TRAIN this model on a down-stream task to be able to use it for predictions and inference.\n"
          ]
        },
        {
          "output_type": "stream",
          "name": "stdout",
          "text": [
            "Enter Question : برای کم کردن افسردگی چیکار کنم؟\n",
            "Matched Question : Cant Match Your Questions\n",
            "MatchedAnswer : Call Admin\n",
            "Match Score : 0.8967059850692749\n",
            "-----------------------------------\n",
            "Enter Question : یا کتاب‌خوانی می‌تواند به عزت نفس کمک کند؟\"\n",
            "Matched Question : آیا کتاب‌خوانی می‌تواند به عزت نفس کمک کند؟\n",
            "MatchedAnswer : بله، به‌ویژه کتاب‌های انگیزشی و روان‌شناسی\n",
            "Match Score : 0.9026510119438171\n",
            "-----------------------------------\n"
          ]
        }
      ]
    }
  ]
}